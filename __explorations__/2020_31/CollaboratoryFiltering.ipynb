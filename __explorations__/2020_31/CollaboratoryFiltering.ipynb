{
 "cells": [
  {
   "cell_type": "code",
   "execution_count": 1,
   "metadata": {},
   "outputs": [],
   "source": [
    "from fastai2.tabular.all import *\n",
    "from fastai2.collab import *"
   ]
  },
  {
   "cell_type": "code",
   "execution_count": 3,
   "metadata": {},
   "outputs": [],
   "source": [
    "path = untar_data(URLs.ML_100k)\n",
    "ratings = pd.read_csv(path/'u.data', delimiter='\\t', header=None,\n",
    "                      usecols=(0,1,2), names=['user','movie','rating'])\n",
    "movies = pd.read_csv(path/'u.item',  delimiter='|', encoding='latin-1',\n",
    "                     usecols=(0,1), names=('movie','title'), header=None)"
   ]
  },
  {
   "cell_type": "code",
   "execution_count": 4,
   "metadata": {},
   "outputs": [],
   "source": [
    "ratings = ratings.merge(movies)"
   ]
  },
  {
   "cell_type": "code",
   "execution_count": 5,
   "metadata": {},
   "outputs": [],
   "source": [
    "dls = CollabDataLoaders.from_df(ratings, item_name='title', bs=64)"
   ]
  },
  {
   "cell_type": "code",
   "execution_count": 6,
   "metadata": {},
   "outputs": [],
   "source": [
    "learn = collab_learner(dls, n_factors=50, y_range=(0, 5.5))"
   ]
  },
  {
   "cell_type": "code",
   "execution_count": 7,
   "metadata": {},
   "outputs": [
    {
     "data": {
      "text/html": [
       "<table border=\"1\" class=\"dataframe\">\n",
       "  <thead>\n",
       "    <tr style=\"text-align: left;\">\n",
       "      <th>epoch</th>\n",
       "      <th>train_loss</th>\n",
       "      <th>valid_loss</th>\n",
       "      <th>time</th>\n",
       "    </tr>\n",
       "  </thead>\n",
       "  <tbody>\n",
       "    <tr>\n",
       "      <td>0</td>\n",
       "      <td>0.943764</td>\n",
       "      <td>0.945623</td>\n",
       "      <td>00:08</td>\n",
       "    </tr>\n",
       "    <tr>\n",
       "      <td>1</td>\n",
       "      <td>0.850762</td>\n",
       "      <td>0.866062</td>\n",
       "      <td>00:08</td>\n",
       "    </tr>\n",
       "    <tr>\n",
       "      <td>2</td>\n",
       "      <td>0.735538</td>\n",
       "      <td>0.828996</td>\n",
       "      <td>00:08</td>\n",
       "    </tr>\n",
       "    <tr>\n",
       "      <td>3</td>\n",
       "      <td>0.578858</td>\n",
       "      <td>0.816693</td>\n",
       "      <td>00:08</td>\n",
       "    </tr>\n",
       "    <tr>\n",
       "      <td>4</td>\n",
       "      <td>0.469008</td>\n",
       "      <td>0.817968</td>\n",
       "      <td>00:08</td>\n",
       "    </tr>\n",
       "  </tbody>\n",
       "</table>"
      ],
      "text/plain": [
       "<IPython.core.display.HTML object>"
      ]
     },
     "metadata": {},
     "output_type": "display_data"
    }
   ],
   "source": [
    "learn.fit_one_cycle(5, 5e-3, wd=0.1)"
   ]
  },
  {
   "cell_type": "markdown",
   "metadata": {},
   "source": [
    "### Interpretation"
   ]
  },
  {
   "cell_type": "code",
   "execution_count": 10,
   "metadata": {},
   "outputs": [
    {
     "data": {
      "text/plain": [
       "array(['Star Wars (1977)', 'Contact (1997)', 'Fargo (1996)',\n",
       "       'Return of the Jedi (1983)', 'Liar Liar (1997)',\n",
       "       'English Patient, The (1996)', 'Scream (1996)', 'Toy Story (1995)',\n",
       "       'Air Force One (1997)', 'Independence Day (ID4) (1996)'],\n",
       "      dtype=object)"
      ]
     },
     "execution_count": 10,
     "metadata": {},
     "output_type": "execute_result"
    }
   ],
   "source": [
    "g = ratings.groupby(\"title\")['rating'].count()\n",
    "top_movies = g.sort_values(ascending=False).index.values[:1000]\n",
    "top_movies[:10]"
   ]
  },
  {
   "cell_type": "code",
   "execution_count": 11,
   "metadata": {},
   "outputs": [
    {
     "data": {
      "text/plain": [
       "torch.Size([1000])"
      ]
     },
     "execution_count": 11,
     "metadata": {},
     "output_type": "execute_result"
    }
   ],
   "source": [
    "movie_bias = learn.model.bias(top_movies, is_item=True)\n",
    "movie_bias.shape"
   ]
  },
  {
   "cell_type": "code",
   "execution_count": 16,
   "metadata": {},
   "outputs": [],
   "source": [
    "mean_ratings = ratings.groupby(\"title\")['rating'].mean()\n",
    "movie_ratings = [(b, i, mean_ratings.loc[i]) for i,b in zip(top_movies,movie_bias)]"
   ]
  },
  {
   "cell_type": "code",
   "execution_count": 17,
   "metadata": {},
   "outputs": [
    {
     "data": {
      "text/plain": [
       "[(tensor(-0.3798),\n",
       "  'Children of the Corn: The Gathering (1996)',\n",
       "  1.3157894736842106),\n",
       " (tensor(-0.2619), 'Mortal Kombat: Annihilation (1997)', 1.9534883720930232),\n",
       " (tensor(-0.2598), 'Bio-Dome (1996)', 1.903225806451613),\n",
       " (tensor(-0.2545), \"McHale's Navy (1997)\", 2.1884057971014492),\n",
       " (tensor(-0.2445), 'Showgirls (1995)', 1.9565217391304348),\n",
       " (tensor(-0.2393), 'Free Willy 3: The Rescue (1997)', 1.7407407407407407),\n",
       " (tensor(-0.2383), 'Leave It to Beaver (1997)', 1.8409090909090908),\n",
       " (tensor(-0.2355), 'Crow: City of Angels, The (1996)', 1.9487179487179487),\n",
       " (tensor(-0.2269),\n",
       "  'Lawnmower Man 2: Beyond Cyberspace (1996)',\n",
       "  1.7142857142857142),\n",
       " (tensor(-0.2221), 'Beautician and the Beast, The (1997)', 2.313953488372093),\n",
       " (tensor(-0.2202), 'Barb Wire (1996)', 1.9333333333333333),\n",
       " (tensor(-0.2080), 'Cable Guy, The (1996)', 2.339622641509434),\n",
       " (tensor(-0.2038), 'Beverly Hills Ninja (1997)', 2.3125),\n",
       " (tensor(-0.2036), 'Striptease (1996)', 2.2388059701492535),\n",
       " (tensor(-0.1995), 'Island of Dr. Moreau, The (1996)', 2.1578947368421053)]"
      ]
     },
     "execution_count": 17,
     "metadata": {},
     "output_type": "execute_result"
    }
   ],
   "source": [
    "item0 = lambda o:o[0]\n",
    "sorted(movie_ratings, key=item0)[:15]"
   ]
  },
  {
   "cell_type": "code",
   "execution_count": null,
   "metadata": {},
   "outputs": [],
   "source": []
  }
 ],
 "metadata": {
  "kernelspec": {
   "display_name": "Python 3",
   "language": "python",
   "name": "python3"
  },
  "language_info": {
   "codemirror_mode": {
    "name": "ipython",
    "version": 3
   },
   "file_extension": ".py",
   "mimetype": "text/x-python",
   "name": "python",
   "nbconvert_exporter": "python",
   "pygments_lexer": "ipython3",
   "version": "3.7.6"
  }
 },
 "nbformat": 4,
 "nbformat_minor": 4
}
