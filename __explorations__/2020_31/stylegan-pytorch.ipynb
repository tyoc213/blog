{
 "cells": [
  {
   "cell_type": "code",
   "execution_count": 1,
   "metadata": {},
   "outputs": [],
   "source": [
    "from fastai2.vision.all import *"
   ]
  },
  {
   "cell_type": "markdown",
   "metadata": {},
   "source": [
    "Este viene de https://github.com/lucidrains/stylegan2-pytorch que se puede instalar con\n",
    "\n",
    "`pip install stylegan2-pytorch`"
   ]
  },
  {
   "cell_type": "markdown",
   "metadata": {},
   "source": [
    "# Otros\n",
    "Hay otras opciones como las siguientes obtenidas algunas de https://paperswithcode.com/paper/analyzing-and-improving-the-image-quality-of\n",
    "\n",
    "\n",
    "* https://github.com/NVlabs/stylegan2 original en tensorflow 1.15 o 1.16\n",
    "* https://github.com/rosinality/stylegan2-pytorch\n",
    "* https://github.com/tomguluson92/StyleGAN2_PyTorch"
   ]
  },
  {
   "cell_type": "code",
   "execution_count": 2,
   "metadata": {},
   "outputs": [],
   "source": [
    "import stylegan2_pytorch"
   ]
  },
  {
   "cell_type": "code",
   "execution_count": 3,
   "metadata": {},
   "outputs": [],
   "source": [
    "p = untar_data(URLs.FLOWERS)"
   ]
  },
  {
   "cell_type": "code",
   "execution_count": 4,
   "metadata": {},
   "outputs": [
    {
     "data": {
      "text/plain": [
       "Path('/home/tyoc213/Documentos/github/blog/__explorations__/2020_31')"
      ]
     },
     "execution_count": 4,
     "metadata": {},
     "output_type": "execute_result"
    }
   ],
   "source": [
    "Path('.').absolute()"
   ]
  },
  {
   "cell_type": "code",
   "execution_count": 5,
   "metadata": {},
   "outputs": [
    {
     "data": {
      "text/plain": [
       "(#17) [Path('altair_performance_tpu.ipynb'),Path('pytorch-xla-env-setup.py'),Path('CollaboratoryFiltering.ipynb'),Path('.ipynb_checkpoints'),Path('Untitled1.ipynb'),Path('models'),Path('vers_to_f.ipynb'),Path('LMModel5 try.ipynb'),Path('test_gpu.py'),Path('wandb')...]"
      ]
     },
     "execution_count": 5,
     "metadata": {},
     "output_type": "execute_result"
    }
   ],
   "source": [
    "Path('.').ls()"
   ]
  },
  {
   "cell_type": "code",
   "execution_count": 6,
   "metadata": {},
   "outputs": [
    {
     "data": {
      "text/plain": [
       "Path('/home/tyoc213/.fastai/data/oxford-102-flowers/jpg')"
      ]
     },
     "execution_count": 6,
     "metadata": {},
     "output_type": "execute_result"
    }
   ],
   "source": [
    "imgpath = p/'jpg'; imgpath"
   ]
  },
  {
   "cell_type": "code",
   "execution_count": null,
   "metadata": {},
   "outputs": [
    {
     "name": "stdout",
     "output_type": "stream",
     "text": [
      "continuing from previous epoch - 136\n",
      "sg2_0</home/tyoc213/.fastai/data/oxford-102-flowers/jpg>:   0%| | 0/14000 [00:00/home/tyoc213/miniconda3/envs/fastai2/lib/python3.7/site-packages/torch/nn/functional.py:3121: UserWarning: Default upsampling behavior when mode=bilinear is changed to align_corners=False since 0.4.0. Please specify align_corners=True if the old behavior is desired. See the documentation of nn.Upsample for details.\n",
      "  \"See the documentation of nn.Upsample for details.\".format(mode))\n",
      "/home/tyoc213/miniconda3/envs/fastai2/lib/python3.7/site-packages/adamp/adamp.py:80: UserWarning: This overload of add_ is deprecated:\n",
      "\tadd_(Number alpha, Tensor other)\n",
      "Consider using one of the following signatures instead:\n",
      "\tadd_(Tensor other, *, Number alpha) (Triggered internally at  /opt/conda/conda-bld/pytorch_1595629427478/work/torch/csrc/utils/python_arg_parser.cpp:766.)\n",
      "  exp_avg.mul_(beta1).add_(1 - beta1, grad)\n",
      "G: 1.01 | D: 0.16 | GP: 0.07 | PL: 0.13 | CR: 0.00 | Q: 0.00\n",
      "sg2_0</home/tyoc213/.fastai/data/oxford-102-flowers/jpg>:   0%| | 45/14000 [00:3G: 1.41 | D: 0.68 | GP: 0.21 | PL: 0.12 | CR: 0.00 | Q: 0.00\n",
      "sg2_0</home/tyoc213/.fastai/data/oxford-102-flowers/jpg>:   1%| | 92/14000 [01:0G: 1.55 | D: 0.46 | GP: 0.01 | PL: 0.12 | CR: 0.00 | Q: 0.00\n",
      "sg2_0</home/tyoc213/.fastai/data/oxford-102-flowers/jpg>:   1%| | 149/14000 [01:G: 1.08 | D: 1.01 | GP: 0.10 | PL: 0.13 | CR: 0.00 | Q: 0.00\n",
      "sg2_0</home/tyoc213/.fastai/data/oxford-102-flowers/jpg>:   1%| | 196/14000 [02:G: 1.34 | D: 0.83 | GP: 0.78 | PL: 0.13 | CR: 0.00 | Q: 0.00\n",
      "sg2_0</home/tyoc213/.fastai/data/oxford-102-flowers/jpg>:   2%| | 240/14000 [02:G: 0.77 | D: 0.75 | GP: 0.47 | PL: 0.13 | CR: 0.00 | Q: 0.00\n",
      "sg2_0</home/tyoc213/.fastai/data/oxford-102-flowers/jpg>:   2%| | 286/14000 [03:G: 1.03 | D: 0.45 | GP: 0.14 | PL: 0.13 | CR: 0.00 | Q: 0.00\n",
      "sg2_0</home/tyoc213/.fastai/data/oxford-102-flowers/jpg>:   2%| | 347/14000 [04:G: 1.35 | D: 0.48 | GP: 0.60 | PL: 0.13 | CR: 0.00 | Q: 0.00\n",
      "sg2_0</home/tyoc213/.fastai/data/oxford-102-flowers/jpg>:   3%| | 391/14000 [04:G: 1.00 | D: 1.23 | GP: 0.16 | PL: 0.13 | CR: 0.00 | Q: 0.00\n",
      "sg2_0</home/tyoc213/.fastai/data/oxford-102-flowers/jpg>:   3%| | 439/14000 [05:G: 1.56 | D: 0.10 | GP: 0.21 | PL: 0.13 | CR: 0.00 | Q: 0.00\n",
      "sg2_0</home/tyoc213/.fastai/data/oxford-102-flowers/jpg>:   3%| | 485/14000 [05:G: 1.72 | D: 0.51 | GP: 0.08 | PL: 0.13 | CR: 0.00 | Q: 0.00\n",
      "sg2_0</home/tyoc213/.fastai/data/oxford-102-flowers/jpg>:   4%| | 549/14000 [06:G: 1.81 | D: 0.64 | GP: 0.12 | PL: 0.13 | CR: 0.00 | Q: 0.00\n"
     ]
    }
   ],
   "source": [
    "%%time\n",
    "!stylegan2_pytorch --name sg2_0 --data '/home/tyoc213/.fastai/data/oxford-102-flowers/jpg' --aug-prob 0.25 --results_dir /home/tyoc213/Documentos/github/blog/__explorations__/2020_31/results --models_dir /home/tyoc213/Documentos/github/blog/__explorations__/2020_31/to/models"
   ]
  },
  {
   "cell_type": "code",
   "execution_count": null,
   "metadata": {},
   "outputs": [],
   "source": [
    "#import gc\n",
    "#gc.collect() # Python thing\n",
    "#torch.cuda.empty_cache()"
   ]
  },
  {
   "cell_type": "markdown",
   "metadata": {},
   "source": [
    "# Generate images"
   ]
  },
  {
   "cell_type": "code",
   "execution_count": null,
   "metadata": {},
   "outputs": [],
   "source": [
    "!stylegan2_pytorch   --generate"
   ]
  },
  {
   "cell_type": "code",
   "execution_count": null,
   "metadata": {},
   "outputs": [],
   "source": [
    "!stylegan2_pytorch  --name sg2_0   --generate --data '/home/tyoc213/.fastai/data/oxford-102-flowers/jpg' "
   ]
  },
  {
   "cell_type": "code",
   "execution_count": null,
   "metadata": {},
   "outputs": [],
   "source": [
    "!pwd"
   ]
  },
  {
   "cell_type": "code",
   "execution_count": null,
   "metadata": {},
   "outputs": [],
   "source": []
  }
 ],
 "metadata": {
  "kernelspec": {
   "display_name": "Python 3",
   "language": "python",
   "name": "python3"
  },
  "language_info": {
   "codemirror_mode": {
    "name": "ipython",
    "version": 3
   },
   "file_extension": ".py",
   "mimetype": "text/x-python",
   "name": "python",
   "nbconvert_exporter": "python",
   "pygments_lexer": "ipython3",
   "version": "3.7.7"
  }
 },
 "nbformat": 4,
 "nbformat_minor": 4
}
