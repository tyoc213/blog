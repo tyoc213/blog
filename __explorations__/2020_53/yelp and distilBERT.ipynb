{
 "cells": [
  {
   "cell_type": "markdown",
   "metadata": {},
   "source": [
    "# Intro\n",
    "\n",
    "Perform Sentiment analysis using DistilBERT on Yelp reviews - Full and apply the EDA augmentation. Report the performance metrics for before and after augmentation? show examples of data augmentaion?\n",
    "\n",
    "* data https://course.fast.ai/datasets\n",
    "* papers: https://arxiv.org/pdf/1910.01108.pdf & https://arxiv.org/pdf/1901.11196.pdf\n",
    "* Hint on dataset Downsample the dataset according to your computing resources."
   ]
  },
  {
   "cell_type": "code",
   "execution_count": 1,
   "metadata": {},
   "outputs": [
    {
     "name": "stdout",
     "output_type": "stream",
     "text": [
      "Requirement already satisfied: transformers==3.5.1 in /home/tyoc213/miniconda3/envs/fastai/lib/python3.8/site-packages (3.5.1)\n",
      "Requirement already satisfied: tqdm>=4.27 in /home/tyoc213/miniconda3/envs/fastai/lib/python3.8/site-packages (from transformers==3.5.1) (4.48.2)\n",
      "Requirement already satisfied: regex!=2019.12.17 in /home/tyoc213/miniconda3/envs/fastai/lib/python3.8/site-packages (from transformers==3.5.1) (2020.7.14)\n",
      "Requirement already satisfied: sentencepiece==0.1.91 in /home/tyoc213/miniconda3/envs/fastai/lib/python3.8/site-packages (from transformers==3.5.1) (0.1.91)\n",
      "Requirement already satisfied: numpy in /home/tyoc213/miniconda3/envs/fastai/lib/python3.8/site-packages (from transformers==3.5.1) (1.19.1)\n",
      "Requirement already satisfied: filelock in /home/tyoc213/miniconda3/envs/fastai/lib/python3.8/site-packages (from transformers==3.5.1) (3.0.12)\n",
      "Requirement already satisfied: sacremoses in /home/tyoc213/miniconda3/envs/fastai/lib/python3.8/site-packages (from transformers==3.5.1) (0.0.43)\n",
      "Requirement already satisfied: requests in /home/tyoc213/miniconda3/envs/fastai/lib/python3.8/site-packages (from transformers==3.5.1) (2.24.0)\n",
      "Requirement already satisfied: packaging in /home/tyoc213/miniconda3/envs/fastai/lib/python3.8/site-packages (from transformers==3.5.1) (20.4)\n",
      "Requirement already satisfied: tokenizers==0.9.3 in /home/tyoc213/miniconda3/envs/fastai/lib/python3.8/site-packages (from transformers==3.5.1) (0.9.3)\n",
      "Requirement already satisfied: protobuf in /home/tyoc213/miniconda3/envs/fastai/lib/python3.8/site-packages (from transformers==3.5.1) (3.14.0)\n",
      "Requirement already satisfied: joblib in /home/tyoc213/miniconda3/envs/fastai/lib/python3.8/site-packages (from sacremoses->transformers==3.5.1) (0.16.0)\n",
      "Requirement already satisfied: click in /home/tyoc213/miniconda3/envs/fastai/lib/python3.8/site-packages (from sacremoses->transformers==3.5.1) (7.1.2)\n",
      "Requirement already satisfied: six in /home/tyoc213/miniconda3/envs/fastai/lib/python3.8/site-packages (from sacremoses->transformers==3.5.1) (1.15.0)\n",
      "Requirement already satisfied: urllib3!=1.25.0,!=1.25.1,<1.26,>=1.21.1 in /home/tyoc213/miniconda3/envs/fastai/lib/python3.8/site-packages (from requests->transformers==3.5.1) (1.25.10)\n",
      "Requirement already satisfied: certifi>=2017.4.17 in /home/tyoc213/miniconda3/envs/fastai/lib/python3.8/site-packages (from requests->transformers==3.5.1) (2020.6.20)\n",
      "Requirement already satisfied: idna<3,>=2.5 in /home/tyoc213/miniconda3/envs/fastai/lib/python3.8/site-packages (from requests->transformers==3.5.1) (2.10)\n",
      "Requirement already satisfied: chardet<4,>=3.0.2 in /home/tyoc213/miniconda3/envs/fastai/lib/python3.8/site-packages (from requests->transformers==3.5.1) (3.0.4)\n",
      "Requirement already satisfied: pyparsing>=2.0.2 in /home/tyoc213/miniconda3/envs/fastai/lib/python3.8/site-packages (from packaging->transformers==3.5.1) (2.4.7)\n"
     ]
    }
   ],
   "source": [
    "!pip install transformers==3.5.1 "
   ]
  },
  {
   "cell_type": "code",
   "execution_count": 2,
   "metadata": {},
   "outputs": [
    {
     "name": "stdout",
     "output_type": "stream",
     "text": [
      "Requirement already satisfied: ohmeow-blurr==0.0.18 in /home/tyoc213/miniconda3/envs/fastai/lib/python3.8/site-packages (0.0.18)\n",
      "Requirement already satisfied: rouge-score in /home/tyoc213/miniconda3/envs/fastai/lib/python3.8/site-packages (from ohmeow-blurr==0.0.18) (0.0.4)\n",
      "Requirement already satisfied: ipykernel in /home/tyoc213/miniconda3/envs/fastai/lib/python3.8/site-packages (from ohmeow-blurr==0.0.18) (5.3.4)\n",
      "Requirement already satisfied: nlp in /home/tyoc213/miniconda3/envs/fastai/lib/python3.8/site-packages (from ohmeow-blurr==0.0.18) (0.4.0)\n",
      "Requirement already satisfied: seqeval in /home/tyoc213/miniconda3/envs/fastai/lib/python3.8/site-packages (from ohmeow-blurr==0.0.18) (1.2.2)\n",
      "Requirement already satisfied: transformers>=3.1.0 in /home/tyoc213/miniconda3/envs/fastai/lib/python3.8/site-packages (from ohmeow-blurr==0.0.18) (3.5.1)\n",
      "Requirement already satisfied: fastai>=2.0.0 in /home/tyoc213/Documents/github/fastai (from ohmeow-blurr==0.0.18) (2.1.8)\n",
      "Requirement already satisfied: six>=1.14.0 in /home/tyoc213/miniconda3/envs/fastai/lib/python3.8/site-packages (from rouge-score->ohmeow-blurr==0.0.18) (1.15.0)\n",
      "Requirement already satisfied: numpy in /home/tyoc213/miniconda3/envs/fastai/lib/python3.8/site-packages (from rouge-score->ohmeow-blurr==0.0.18) (1.19.1)\n",
      "Requirement already satisfied: absl-py in /home/tyoc213/miniconda3/envs/fastai/lib/python3.8/site-packages (from rouge-score->ohmeow-blurr==0.0.18) (0.11.0)\n",
      "Requirement already satisfied: nltk in /home/tyoc213/miniconda3/envs/fastai/lib/python3.8/site-packages (from rouge-score->ohmeow-blurr==0.0.18) (3.5)\n",
      "Requirement already satisfied: tornado>=4.2 in /home/tyoc213/miniconda3/envs/fastai/lib/python3.8/site-packages (from ipykernel->ohmeow-blurr==0.0.18) (6.0.4)\n",
      "Requirement already satisfied: jupyter-client in /home/tyoc213/miniconda3/envs/fastai/lib/python3.8/site-packages (from ipykernel->ohmeow-blurr==0.0.18) (6.1.7)\n",
      "Requirement already satisfied: traitlets>=4.1.0 in /home/tyoc213/miniconda3/envs/fastai/lib/python3.8/site-packages (from ipykernel->ohmeow-blurr==0.0.18) (5.0.0)\n",
      "Requirement already satisfied: ipython>=5.0.0 in /home/tyoc213/miniconda3/envs/fastai/lib/python3.8/site-packages (from ipykernel->ohmeow-blurr==0.0.18) (7.18.1)\n",
      "Requirement already satisfied: tqdm>=4.27 in /home/tyoc213/miniconda3/envs/fastai/lib/python3.8/site-packages (from nlp->ohmeow-blurr==0.0.18) (4.48.2)\n",
      "Requirement already satisfied: filelock in /home/tyoc213/miniconda3/envs/fastai/lib/python3.8/site-packages (from nlp->ohmeow-blurr==0.0.18) (3.0.12)\n",
      "Requirement already satisfied: dill in /home/tyoc213/miniconda3/envs/fastai/lib/python3.8/site-packages (from nlp->ohmeow-blurr==0.0.18) (0.3.3)\n",
      "Requirement already satisfied: pyarrow>=0.16.0 in /home/tyoc213/miniconda3/envs/fastai/lib/python3.8/site-packages (from nlp->ohmeow-blurr==0.0.18) (2.0.0)\n",
      "Requirement already satisfied: requests>=2.19.0 in /home/tyoc213/miniconda3/envs/fastai/lib/python3.8/site-packages (from nlp->ohmeow-blurr==0.0.18) (2.24.0)\n",
      "Requirement already satisfied: xxhash in /home/tyoc213/miniconda3/envs/fastai/lib/python3.8/site-packages (from nlp->ohmeow-blurr==0.0.18) (2.0.0)\n",
      "Requirement already satisfied: pandas in /home/tyoc213/miniconda3/envs/fastai/lib/python3.8/site-packages (from nlp->ohmeow-blurr==0.0.18) (1.1.1)\n",
      "Requirement already satisfied: scikit-learn>=0.21.3 in /home/tyoc213/miniconda3/envs/fastai/lib/python3.8/site-packages (from seqeval->ohmeow-blurr==0.0.18) (0.23.2)\n",
      "Requirement already satisfied: packaging in /home/tyoc213/miniconda3/envs/fastai/lib/python3.8/site-packages (from transformers>=3.1.0->ohmeow-blurr==0.0.18) (20.4)\n",
      "Requirement already satisfied: sentencepiece==0.1.91 in /home/tyoc213/miniconda3/envs/fastai/lib/python3.8/site-packages (from transformers>=3.1.0->ohmeow-blurr==0.0.18) (0.1.91)\n",
      "Requirement already satisfied: regex!=2019.12.17 in /home/tyoc213/miniconda3/envs/fastai/lib/python3.8/site-packages (from transformers>=3.1.0->ohmeow-blurr==0.0.18) (2020.7.14)\n",
      "Requirement already satisfied: protobuf in /home/tyoc213/miniconda3/envs/fastai/lib/python3.8/site-packages (from transformers>=3.1.0->ohmeow-blurr==0.0.18) (3.14.0)\n",
      "Requirement already satisfied: sacremoses in /home/tyoc213/miniconda3/envs/fastai/lib/python3.8/site-packages (from transformers>=3.1.0->ohmeow-blurr==0.0.18) (0.0.43)\n",
      "Requirement already satisfied: tokenizers==0.9.3 in /home/tyoc213/miniconda3/envs/fastai/lib/python3.8/site-packages (from transformers>=3.1.0->ohmeow-blurr==0.0.18) (0.9.3)\n",
      "Requirement already satisfied: pip in /home/tyoc213/miniconda3/envs/fastai/lib/python3.8/site-packages (from fastai>=2.0.0->ohmeow-blurr==0.0.18) (20.2.2)\n",
      "Requirement already satisfied: fastcore>=1.3.8 in /home/tyoc213/Documents/github/fastcore (from fastai>=2.0.0->ohmeow-blurr==0.0.18) (1.3.11)\n",
      "Requirement already satisfied: torchvision>=0.8 in /home/tyoc213/miniconda3/envs/fastai/lib/python3.8/site-packages (from fastai>=2.0.0->ohmeow-blurr==0.0.18) (0.8.1)\n",
      "Requirement already satisfied: matplotlib in /home/tyoc213/miniconda3/envs/fastai/lib/python3.8/site-packages (from fastai>=2.0.0->ohmeow-blurr==0.0.18) (3.3.1)\n",
      "Requirement already satisfied: pyyaml in /home/tyoc213/miniconda3/envs/fastai/lib/python3.8/site-packages (from fastai>=2.0.0->ohmeow-blurr==0.0.18) (5.3.1)\n",
      "Requirement already satisfied: fastprogress>=0.2.4 in /home/tyoc213/miniconda3/envs/fastai/lib/python3.8/site-packages (from fastai>=2.0.0->ohmeow-blurr==0.0.18) (1.0.0)\n",
      "Requirement already satisfied: pillow in /home/tyoc213/miniconda3/envs/fastai/lib/python3.8/site-packages (from fastai>=2.0.0->ohmeow-blurr==0.0.18) (7.2.0)\n",
      "Requirement already satisfied: scipy in /home/tyoc213/miniconda3/envs/fastai/lib/python3.8/site-packages (from fastai>=2.0.0->ohmeow-blurr==0.0.18) (1.5.2)\n",
      "Requirement already satisfied: spacy in /home/tyoc213/miniconda3/envs/fastai/lib/python3.8/site-packages (from fastai>=2.0.0->ohmeow-blurr==0.0.18) (2.3.2)\n",
      "Requirement already satisfied: torch>=1.7.0 in /home/tyoc213/miniconda3/envs/fastai/lib/python3.8/site-packages (from fastai>=2.0.0->ohmeow-blurr==0.0.18) (1.7.0)\n",
      "Requirement already satisfied: joblib in /home/tyoc213/miniconda3/envs/fastai/lib/python3.8/site-packages (from nltk->rouge-score->ohmeow-blurr==0.0.18) (0.16.0)\n",
      "Requirement already satisfied: click in /home/tyoc213/miniconda3/envs/fastai/lib/python3.8/site-packages (from nltk->rouge-score->ohmeow-blurr==0.0.18) (7.1.2)\n",
      "Requirement already satisfied: jupyter-core>=4.6.0 in /home/tyoc213/miniconda3/envs/fastai/lib/python3.8/site-packages (from jupyter-client->ipykernel->ohmeow-blurr==0.0.18) (4.6.3)\n",
      "Requirement already satisfied: python-dateutil>=2.1 in /home/tyoc213/miniconda3/envs/fastai/lib/python3.8/site-packages (from jupyter-client->ipykernel->ohmeow-blurr==0.0.18) (2.8.1)\n",
      "Requirement already satisfied: pyzmq>=13 in /home/tyoc213/miniconda3/envs/fastai/lib/python3.8/site-packages (from jupyter-client->ipykernel->ohmeow-blurr==0.0.18) (19.0.2)\n",
      "Requirement already satisfied: ipython-genutils in /home/tyoc213/miniconda3/envs/fastai/lib/python3.8/site-packages (from traitlets>=4.1.0->ipykernel->ohmeow-blurr==0.0.18) (0.2.0)\n",
      "Requirement already satisfied: pygments in /home/tyoc213/miniconda3/envs/fastai/lib/python3.8/site-packages (from ipython>=5.0.0->ipykernel->ohmeow-blurr==0.0.18) (2.6.1)\n",
      "Requirement already satisfied: pickleshare in /home/tyoc213/miniconda3/envs/fastai/lib/python3.8/site-packages (from ipython>=5.0.0->ipykernel->ohmeow-blurr==0.0.18) (0.7.5)\n",
      "Requirement already satisfied: decorator in /home/tyoc213/miniconda3/envs/fastai/lib/python3.8/site-packages (from ipython>=5.0.0->ipykernel->ohmeow-blurr==0.0.18) (4.4.2)\n",
      "Requirement already satisfied: jedi>=0.10 in /home/tyoc213/miniconda3/envs/fastai/lib/python3.8/site-packages (from ipython>=5.0.0->ipykernel->ohmeow-blurr==0.0.18) (0.17.2)\n",
      "Requirement already satisfied: prompt-toolkit!=3.0.0,!=3.0.1,<3.1.0,>=2.0.0 in /home/tyoc213/miniconda3/envs/fastai/lib/python3.8/site-packages (from ipython>=5.0.0->ipykernel->ohmeow-blurr==0.0.18) (3.0.7)\n",
      "Requirement already satisfied: setuptools>=18.5 in /home/tyoc213/miniconda3/envs/fastai/lib/python3.8/site-packages (from ipython>=5.0.0->ipykernel->ohmeow-blurr==0.0.18) (49.6.0.post20200814)\n",
      "Requirement already satisfied: pexpect>4.3; sys_platform != \"win32\" in /home/tyoc213/miniconda3/envs/fastai/lib/python3.8/site-packages (from ipython>=5.0.0->ipykernel->ohmeow-blurr==0.0.18) (4.8.0)\n",
      "Requirement already satisfied: backcall in /home/tyoc213/miniconda3/envs/fastai/lib/python3.8/site-packages (from ipython>=5.0.0->ipykernel->ohmeow-blurr==0.0.18) (0.2.0)\n",
      "Requirement already satisfied: urllib3!=1.25.0,!=1.25.1,<1.26,>=1.21.1 in /home/tyoc213/miniconda3/envs/fastai/lib/python3.8/site-packages (from requests>=2.19.0->nlp->ohmeow-blurr==0.0.18) (1.25.10)\n",
      "Requirement already satisfied: certifi>=2017.4.17 in /home/tyoc213/miniconda3/envs/fastai/lib/python3.8/site-packages (from requests>=2.19.0->nlp->ohmeow-blurr==0.0.18) (2020.6.20)\n",
      "Requirement already satisfied: idna<3,>=2.5 in /home/tyoc213/miniconda3/envs/fastai/lib/python3.8/site-packages (from requests>=2.19.0->nlp->ohmeow-blurr==0.0.18) (2.10)\n",
      "Requirement already satisfied: chardet<4,>=3.0.2 in /home/tyoc213/miniconda3/envs/fastai/lib/python3.8/site-packages (from requests>=2.19.0->nlp->ohmeow-blurr==0.0.18) (3.0.4)\n",
      "Requirement already satisfied: pytz>=2017.2 in /home/tyoc213/miniconda3/envs/fastai/lib/python3.8/site-packages (from pandas->nlp->ohmeow-blurr==0.0.18) (2020.1)\n"
     ]
    },
    {
     "name": "stdout",
     "output_type": "stream",
     "text": [
      "Requirement already satisfied: threadpoolctl>=2.0.0 in /home/tyoc213/miniconda3/envs/fastai/lib/python3.8/site-packages (from scikit-learn>=0.21.3->seqeval->ohmeow-blurr==0.0.18) (2.1.0)\n",
      "Requirement already satisfied: pyparsing>=2.0.2 in /home/tyoc213/miniconda3/envs/fastai/lib/python3.8/site-packages (from packaging->transformers>=3.1.0->ohmeow-blurr==0.0.18) (2.4.7)\n",
      "Requirement already satisfied: cycler>=0.10 in /home/tyoc213/miniconda3/envs/fastai/lib/python3.8/site-packages (from matplotlib->fastai>=2.0.0->ohmeow-blurr==0.0.18) (0.10.0)\n",
      "Requirement already satisfied: kiwisolver>=1.0.1 in /home/tyoc213/miniconda3/envs/fastai/lib/python3.8/site-packages (from matplotlib->fastai>=2.0.0->ohmeow-blurr==0.0.18) (1.2.0)\n",
      "Requirement already satisfied: plac<1.2.0,>=0.9.6 in /home/tyoc213/miniconda3/envs/fastai/lib/python3.8/site-packages (from spacy->fastai>=2.0.0->ohmeow-blurr==0.0.18) (1.1.3)\n",
      "Requirement already satisfied: cymem<2.1.0,>=2.0.2 in /home/tyoc213/miniconda3/envs/fastai/lib/python3.8/site-packages (from spacy->fastai>=2.0.0->ohmeow-blurr==0.0.18) (2.0.3)\n",
      "Requirement already satisfied: blis<0.5.0,>=0.4.0 in /home/tyoc213/miniconda3/envs/fastai/lib/python3.8/site-packages (from spacy->fastai>=2.0.0->ohmeow-blurr==0.0.18) (0.4.1)\n",
      "Requirement already satisfied: srsly<1.1.0,>=1.0.2 in /home/tyoc213/miniconda3/envs/fastai/lib/python3.8/site-packages (from spacy->fastai>=2.0.0->ohmeow-blurr==0.0.18) (1.0.2)\n",
      "Requirement already satisfied: catalogue<1.1.0,>=0.0.7 in /home/tyoc213/miniconda3/envs/fastai/lib/python3.8/site-packages (from spacy->fastai>=2.0.0->ohmeow-blurr==0.0.18) (1.0.0)\n",
      "Requirement already satisfied: murmurhash<1.1.0,>=0.28.0 in /home/tyoc213/miniconda3/envs/fastai/lib/python3.8/site-packages (from spacy->fastai>=2.0.0->ohmeow-blurr==0.0.18) (1.0.2)\n",
      "Requirement already satisfied: thinc==7.4.1 in /home/tyoc213/miniconda3/envs/fastai/lib/python3.8/site-packages (from spacy->fastai>=2.0.0->ohmeow-blurr==0.0.18) (7.4.1)\n",
      "Requirement already satisfied: preshed<3.1.0,>=3.0.2 in /home/tyoc213/miniconda3/envs/fastai/lib/python3.8/site-packages (from spacy->fastai>=2.0.0->ohmeow-blurr==0.0.18) (3.0.2)\n",
      "Requirement already satisfied: wasabi<1.1.0,>=0.4.0 in /home/tyoc213/miniconda3/envs/fastai/lib/python3.8/site-packages (from spacy->fastai>=2.0.0->ohmeow-blurr==0.0.18) (0.8.0)\n",
      "Requirement already satisfied: future in /home/tyoc213/miniconda3/envs/fastai/lib/python3.8/site-packages (from torch>=1.7.0->fastai>=2.0.0->ohmeow-blurr==0.0.18) (0.18.2)\n",
      "Requirement already satisfied: typing_extensions in /home/tyoc213/miniconda3/envs/fastai/lib/python3.8/site-packages (from torch>=1.7.0->fastai>=2.0.0->ohmeow-blurr==0.0.18) (3.7.4.3)\n",
      "Requirement already satisfied: dataclasses in /home/tyoc213/miniconda3/envs/fastai/lib/python3.8/site-packages (from torch>=1.7.0->fastai>=2.0.0->ohmeow-blurr==0.0.18) (0.6)\n",
      "Requirement already satisfied: parso<0.8.0,>=0.7.0 in /home/tyoc213/miniconda3/envs/fastai/lib/python3.8/site-packages (from jedi>=0.10->ipython>=5.0.0->ipykernel->ohmeow-blurr==0.0.18) (0.7.1)\n",
      "Requirement already satisfied: wcwidth in /home/tyoc213/miniconda3/envs/fastai/lib/python3.8/site-packages (from prompt-toolkit!=3.0.0,!=3.0.1,<3.1.0,>=2.0.0->ipython>=5.0.0->ipykernel->ohmeow-blurr==0.0.18) (0.2.5)\n",
      "Requirement already satisfied: ptyprocess>=0.5 in /home/tyoc213/miniconda3/envs/fastai/lib/python3.8/site-packages (from pexpect>4.3; sys_platform != \"win32\"->ipython>=5.0.0->ipykernel->ohmeow-blurr==0.0.18) (0.6.0)\n"
     ]
    }
   ],
   "source": [
    "!pip install ohmeow-blurr==0.0.18"
   ]
  },
  {
   "cell_type": "code",
   "execution_count": 22,
   "metadata": {},
   "outputs": [
    {
     "name": "stdout",
     "output_type": "stream",
     "text": [
      "Requirement already satisfied: spacy in /home/tyoc213/miniconda3/envs/fastai/lib/python3.8/site-packages (2.3.2)\n",
      "Requirement already satisfied: catalogue<1.1.0,>=0.0.7 in /home/tyoc213/miniconda3/envs/fastai/lib/python3.8/site-packages (from spacy) (1.0.0)\n",
      "Requirement already satisfied: requests<3.0.0,>=2.13.0 in /home/tyoc213/miniconda3/envs/fastai/lib/python3.8/site-packages (from spacy) (2.24.0)\n",
      "Requirement already satisfied: plac<1.2.0,>=0.9.6 in /home/tyoc213/miniconda3/envs/fastai/lib/python3.8/site-packages (from spacy) (1.1.3)\n",
      "Requirement already satisfied: blis<0.5.0,>=0.4.0 in /home/tyoc213/miniconda3/envs/fastai/lib/python3.8/site-packages (from spacy) (0.4.1)\n",
      "Requirement already satisfied: murmurhash<1.1.0,>=0.28.0 in /home/tyoc213/miniconda3/envs/fastai/lib/python3.8/site-packages (from spacy) (1.0.2)\n",
      "Requirement already satisfied: cymem<2.1.0,>=2.0.2 in /home/tyoc213/miniconda3/envs/fastai/lib/python3.8/site-packages (from spacy) (2.0.3)\n",
      "Requirement already satisfied: numpy>=1.15.0 in /home/tyoc213/miniconda3/envs/fastai/lib/python3.8/site-packages (from spacy) (1.19.1)\n",
      "Requirement already satisfied: tqdm<5.0.0,>=4.38.0 in /home/tyoc213/miniconda3/envs/fastai/lib/python3.8/site-packages (from spacy) (4.48.2)\n",
      "Requirement already satisfied: thinc==7.4.1 in /home/tyoc213/miniconda3/envs/fastai/lib/python3.8/site-packages (from spacy) (7.4.1)\n",
      "Requirement already satisfied: srsly<1.1.0,>=1.0.2 in /home/tyoc213/miniconda3/envs/fastai/lib/python3.8/site-packages (from spacy) (1.0.2)\n",
      "Requirement already satisfied: preshed<3.1.0,>=3.0.2 in /home/tyoc213/miniconda3/envs/fastai/lib/python3.8/site-packages (from spacy) (3.0.2)\n",
      "Requirement already satisfied: wasabi<1.1.0,>=0.4.0 in /home/tyoc213/miniconda3/envs/fastai/lib/python3.8/site-packages (from spacy) (0.8.0)\n",
      "Requirement already satisfied: setuptools in /home/tyoc213/miniconda3/envs/fastai/lib/python3.8/site-packages (from spacy) (49.6.0.post20200814)\n",
      "Requirement already satisfied: certifi>=2017.4.17 in /home/tyoc213/miniconda3/envs/fastai/lib/python3.8/site-packages (from requests<3.0.0,>=2.13.0->spacy) (2020.6.20)\n",
      "Requirement already satisfied: idna<3,>=2.5 in /home/tyoc213/miniconda3/envs/fastai/lib/python3.8/site-packages (from requests<3.0.0,>=2.13.0->spacy) (2.10)\n",
      "Requirement already satisfied: urllib3!=1.25.0,!=1.25.1,<1.26,>=1.21.1 in /home/tyoc213/miniconda3/envs/fastai/lib/python3.8/site-packages (from requests<3.0.0,>=2.13.0->spacy) (1.25.10)\n",
      "Requirement already satisfied: chardet<4,>=3.0.2 in /home/tyoc213/miniconda3/envs/fastai/lib/python3.8/site-packages (from requests<3.0.0,>=2.13.0->spacy) (3.0.4)\n"
     ]
    }
   ],
   "source": [
    "!pip install spacy"
   ]
  },
  {
   "cell_type": "code",
   "execution_count": 23,
   "metadata": {},
   "outputs": [
    {
     "name": "stdout",
     "output_type": "stream",
     "text": [
      "Collecting nlp_profiler\n",
      "  Using cached nlp_profiler-0.0.2-py2.py3-none-any.whl (39 kB)\n",
      "Requirement already satisfied, skipping upgrade: nltk>=3.5 in /home/tyoc213/miniconda3/envs/fastai/lib/python3.8/site-packages (from nlp_profiler) (3.5)\n",
      "Requirement already satisfied, skipping upgrade: pandas in /home/tyoc213/miniconda3/envs/fastai/lib/python3.8/site-packages (from nlp_profiler) (1.1.1)\n",
      "Collecting swifter>=1.0.3\n",
      "  Using cached swifter-1.0.7.tar.gz (633 kB)\n",
      "Requirement already satisfied, skipping upgrade: tqdm>=4.46.0 in /home/tyoc213/miniconda3/envs/fastai/lib/python3.8/site-packages (from nlp_profiler) (4.48.2)\n",
      "Requirement already satisfied, skipping upgrade: joblib>=0.14.1 in /home/tyoc213/miniconda3/envs/fastai/lib/python3.8/site-packages (from nlp_profiler) (0.16.0)\n",
      "Collecting language-tool-python>=2.3.1\n",
      "  Using cached language_tool_python-2.4.7-py3-none-any.whl (30 kB)\n",
      "Requirement already satisfied, skipping upgrade: ipython>=7.12.0 in /home/tyoc213/miniconda3/envs/fastai/lib/python3.8/site-packages (from nlp_profiler) (7.18.1)\n",
      "Collecting emoji>=0.5.4\n",
      "  Using cached emoji-0.6.0.tar.gz (51 kB)\n",
      "\u001b[31mERROR: Could not find a version that satisfies the requirement en-core-web-sm (from nlp_profiler) (from versions: none)\u001b[0m\n",
      "\u001b[31mERROR: No matching distribution found for en-core-web-sm (from nlp_profiler)\u001b[0m\n"
     ]
    }
   ],
   "source": [
    "!pip install -U nlp_profiler"
   ]
  },
  {
   "cell_type": "code",
   "execution_count": 1,
   "metadata": {},
   "outputs": [],
   "source": [
    "import torch\n",
    "from transformers import *\n",
    "from fastai.text.all import *\n",
    "\n",
    "from blurr.data.all import *\n",
    "from blurr.modeling.all import *"
   ]
  },
  {
   "cell_type": "markdown",
   "metadata": {},
   "source": [
    "# yelp"
   ]
  },
  {
   "cell_type": "code",
   "execution_count": 2,
   "metadata": {},
   "outputs": [],
   "source": [
    "path = untar_data(URLs.YELP_REVIEWS)\n",
    "# path = untar_data(URLs.YELP_REVIEWS_POLARITY)"
   ]
  },
  {
   "cell_type": "code",
   "execution_count": 3,
   "metadata": {},
   "outputs": [
    {
     "data": {
      "text/plain": [
       "(#3) [Path('/home/tyoc213/.fastai/data/yelp_review_full_csv/train.csv'),Path('/home/tyoc213/.fastai/data/yelp_review_full_csv/readme.txt'),Path('/home/tyoc213/.fastai/data/yelp_review_full_csv/test.csv')]"
      ]
     },
     "execution_count": 3,
     "metadata": {},
     "output_type": "execute_result"
    }
   ],
   "source": [
    "path.ls()"
   ]
  },
  {
   "cell_type": "code",
   "execution_count": 4,
   "metadata": {},
   "outputs": [
    {
     "name": "stdout",
     "output_type": "stream",
     "text": [
      "CPU times: user 3.33 s, sys: 276 ms, total: 3.6 s\n",
      "Wall time: 3.6 s\n"
     ]
    }
   ],
   "source": [
    "%%time\n",
    "pd_train = pd.read_csv(path/'train.csv', header=0, names=['stars', 'review'])\n",
    "pd_test = pd.read_csv(path/'test.csv', header=0, names=['stars', 'review'])"
   ]
  },
  {
   "cell_type": "code",
   "execution_count": 5,
   "metadata": {},
   "outputs": [
    {
     "data": {
      "text/html": [
       "<div>\n",
       "<style scoped>\n",
       "    .dataframe tbody tr th:only-of-type {\n",
       "        vertical-align: middle;\n",
       "    }\n",
       "\n",
       "    .dataframe tbody tr th {\n",
       "        vertical-align: top;\n",
       "    }\n",
       "\n",
       "    .dataframe thead th {\n",
       "        text-align: right;\n",
       "    }\n",
       "</style>\n",
       "<table border=\"1\" class=\"dataframe\">\n",
       "  <thead>\n",
       "    <tr style=\"text-align: right;\">\n",
       "      <th></th>\n",
       "      <th>stars</th>\n",
       "      <th>review</th>\n",
       "    </tr>\n",
       "  </thead>\n",
       "  <tbody>\n",
       "    <tr>\n",
       "      <th>0</th>\n",
       "      <td>2</td>\n",
       "      <td>Unfortunately, the frustration of being Dr. Goldberg's patient is a repeat of the experience I've had with so many other doctors in NYC -- good doctor, terrible staff.  It seems that his staff simply never answers the phone.  It usually takes 2 hours of repeated calling to get an answer.  Who has time for that or wants to deal with it?  I have run into this problem with many other doctors and I just don't get it.  You have office workers, you have patients with medical needs, why isn't anyone answering the phone?  It's incomprehensible and not work the aggravation.  It's with regret that I...</td>\n",
       "    </tr>\n",
       "    <tr>\n",
       "      <th>1</th>\n",
       "      <td>4</td>\n",
       "      <td>Been going to Dr. Goldberg for over 10 years. I think I was one of his 1st patients when he started at MHMG. He's been great over the years and is really all about the big picture. It is because of him, not my now former gyn Dr. Markoff, that I found out I have fibroids. He explores all options with you and is very patient and understanding. He doesn't judge and asks all the right questions. Very thorough and wants to be kept in the loop on every aspect of your medical health and your life.</td>\n",
       "    </tr>\n",
       "    <tr>\n",
       "      <th>2</th>\n",
       "      <td>4</td>\n",
       "      <td>Got a letter in the mail last week that said Dr. Goldberg is moving to Arizona to take a new position there in June.  He will be missed very much.  \\n\\nI think finding a new doctor in NYC that you actually like might almost be as awful as trying to find a date!</td>\n",
       "    </tr>\n",
       "    <tr>\n",
       "      <th>3</th>\n",
       "      <td>1</td>\n",
       "      <td>I don't know what Dr. Goldberg was like before  moving to Arizona, but let me tell you, STAY AWAY from this doctor and this office. I was going to Dr. Johnson before he left and Goldberg took over when Johnson left. He is not a caring doctor. He is only interested in the co-pay and having you come in for medication refills every month. He will not give refills and could less about patients's financial situations. Trying to get your 90 days mail away pharmacy prescriptions through this guy is a joke. And to make matters even worse, his office staff is incompetent. 90% of the time when you c...</td>\n",
       "    </tr>\n",
       "    <tr>\n",
       "      <th>4</th>\n",
       "      <td>5</td>\n",
       "      <td>Top notch doctor in a top notch practice. Can't say I am surprised when I was referred to him by another doctor who I think is wonderful and because he went to one of the best medical schools in the country. \\nIt is really easy to get an appointment. There is minimal wait to be seen and his bedside manner is great.</td>\n",
       "    </tr>\n",
       "  </tbody>\n",
       "</table>\n",
       "</div>"
      ],
      "text/plain": [
       "   stars  \\\n",
       "0      2   \n",
       "1      4   \n",
       "2      4   \n",
       "3      1   \n",
       "4      5   \n",
       "\n",
       "                                                                                                                                                                                                                                                                                                                                                                                                                                                                                                                                                                                                                    review  \n",
       "0  Unfortunately, the frustration of being Dr. Goldberg's patient is a repeat of the experience I've had with so many other doctors in NYC -- good doctor, terrible staff.  It seems that his staff simply never answers the phone.  It usually takes 2 hours of repeated calling to get an answer.  Who has time for that or wants to deal with it?  I have run into this problem with many other doctors and I just don't get it.  You have office workers, you have patients with medical needs, why isn't anyone answering the phone?  It's incomprehensible and not work the aggravation.  It's with regret that I...  \n",
       "1                                                                                                          Been going to Dr. Goldberg for over 10 years. I think I was one of his 1st patients when he started at MHMG. He's been great over the years and is really all about the big picture. It is because of him, not my now former gyn Dr. Markoff, that I found out I have fibroids. He explores all options with you and is very patient and understanding. He doesn't judge and asks all the right questions. Very thorough and wants to be kept in the loop on every aspect of your medical health and your life.  \n",
       "2                                                                                                                                                                                                                                                                                                                                                    Got a letter in the mail last week that said Dr. Goldberg is moving to Arizona to take a new position there in June.  He will be missed very much.  \\n\\nI think finding a new doctor in NYC that you actually like might almost be as awful as trying to find a date!  \n",
       "3  I don't know what Dr. Goldberg was like before  moving to Arizona, but let me tell you, STAY AWAY from this doctor and this office. I was going to Dr. Johnson before he left and Goldberg took over when Johnson left. He is not a caring doctor. He is only interested in the co-pay and having you come in for medication refills every month. He will not give refills and could less about patients's financial situations. Trying to get your 90 days mail away pharmacy prescriptions through this guy is a joke. And to make matters even worse, his office staff is incompetent. 90% of the time when you c...  \n",
       "4                                                                                                                                                                                                                                                                                             Top notch doctor in a top notch practice. Can't say I am surprised when I was referred to him by another doctor who I think is wonderful and because he went to one of the best medical schools in the country. \\nIt is really easy to get an appointment. There is minimal wait to be seen and his bedside manner is great.  "
      ]
     },
     "execution_count": 5,
     "metadata": {},
     "output_type": "execute_result"
    }
   ],
   "source": [
    "pd_train.head()"
   ]
  },
  {
   "cell_type": "code",
   "execution_count": 6,
   "metadata": {},
   "outputs": [
    {
     "data": {
      "text/html": [
       "<div>\n",
       "<style scoped>\n",
       "    .dataframe tbody tr th:only-of-type {\n",
       "        vertical-align: middle;\n",
       "    }\n",
       "\n",
       "    .dataframe tbody tr th {\n",
       "        vertical-align: top;\n",
       "    }\n",
       "\n",
       "    .dataframe thead th {\n",
       "        text-align: right;\n",
       "    }\n",
       "</style>\n",
       "<table border=\"1\" class=\"dataframe\">\n",
       "  <thead>\n",
       "    <tr style=\"text-align: right;\">\n",
       "      <th></th>\n",
       "      <th>stars</th>\n",
       "      <th>review</th>\n",
       "    </tr>\n",
       "  </thead>\n",
       "  <tbody>\n",
       "    <tr>\n",
       "      <th>0</th>\n",
       "      <td>1</td>\n",
       "      <td>Don't waste your time.  We had two different people come to our house to give us estimates for a deck (one of them the OWNER).  Both times, we never heard from them.  Not a call, not the estimate, nothing.</td>\n",
       "    </tr>\n",
       "    <tr>\n",
       "      <th>1</th>\n",
       "      <td>1</td>\n",
       "      <td>All I can say is the worst! We were the only 2 people in the place for lunch, the place was freezing and loaded with kids toys! 2 bicycles, a scooter, and an electronic keyboard graced the dining room. A fish tank with filthy, slimy fingerprints smeared all over it is there for your enjoyment.\\n\\nOur food came... no water to drink, no tea, medium temperature food. Of course its cold, just like the room, I never took my jacket off! The plates are too small, you food spills over onto some semi-clean tables as you sit in your completely worn out booth seat. The fried noodles were out of a box...</td>\n",
       "    </tr>\n",
       "    <tr>\n",
       "      <th>2</th>\n",
       "      <td>1</td>\n",
       "      <td>I have been to this restaurant twice and was disappointed both times. I won't go back. The first time we were there almost 3 hours. It took forever to order and then forever for our food to come and the place was empty. When I complained the manager was very rude and tried to blame us for taking to long to order. It made no sense, how could we order when the waitress wasn't coming to the table? After arguing with me he ended up taking $6 off of our $200+ bill. Ridiculous. If it were up to me I would have never returned. Unfortunately my family decided to go here again tonight. Again it too...</td>\n",
       "    </tr>\n",
       "    <tr>\n",
       "      <th>3</th>\n",
       "      <td>1</td>\n",
       "      <td>Food was NOT GOOD at all! My husband &amp; I ate here a couple weeks ago for the first time. I ordered a salad &amp; basil pesto cream pasta &amp; my husband ordered the spinach &amp; feta pasta. The salad was just a huge plate of spring mix (nothing else in it) with WAY to much vinegar dressing. My lettuce was drowning in the vinegar. My pesto pasta had no flavor (did not taste like a cream sauce to me) &amp; the pesto was so runny/watery &amp; way too much sauce not enough noodles. My husband's pasta had even less flavor than mine. We ate about a quarter of the food &amp; couldn't even finish it. We took it home &amp; ...</td>\n",
       "    </tr>\n",
       "    <tr>\n",
       "      <th>4</th>\n",
       "      <td>3</td>\n",
       "      <td>This is a tiny Starbucks and it locations like this (although cute) makes you wonder if your really meant to hang out or just grab your coffee and leave. Leaving is always a good idea at this location anyway since you have a nice fountain in the back with benches and it is a central part of the Waterfront Shopping. \\n\\nStarbuck isn't my favorite coffee chain by any means. Is it just me or do all Starbuck coffees taste a little burnt and bitter? No matter how trendy, cool and upscale their establishments are I can't get around the yicky tasting bitterness of Staryucks regular coffees. Talk ...</td>\n",
       "    </tr>\n",
       "  </tbody>\n",
       "</table>\n",
       "</div>"
      ],
      "text/plain": [
       "   stars  \\\n",
       "0      1   \n",
       "1      1   \n",
       "2      1   \n",
       "3      1   \n",
       "4      3   \n",
       "\n",
       "                                                                                                                                                                                                                                                                                                                                                                                                                                                                                                                                                                                                                    review  \n",
       "0                                                                                                                                                                                                                                                                                                                                                                                                            Don't waste your time.  We had two different people come to our house to give us estimates for a deck (one of them the OWNER).  Both times, we never heard from them.  Not a call, not the estimate, nothing.  \n",
       "1  All I can say is the worst! We were the only 2 people in the place for lunch, the place was freezing and loaded with kids toys! 2 bicycles, a scooter, and an electronic keyboard graced the dining room. A fish tank with filthy, slimy fingerprints smeared all over it is there for your enjoyment.\\n\\nOur food came... no water to drink, no tea, medium temperature food. Of course its cold, just like the room, I never took my jacket off! The plates are too small, you food spills over onto some semi-clean tables as you sit in your completely worn out booth seat. The fried noodles were out of a box...  \n",
       "2  I have been to this restaurant twice and was disappointed both times. I won't go back. The first time we were there almost 3 hours. It took forever to order and then forever for our food to come and the place was empty. When I complained the manager was very rude and tried to blame us for taking to long to order. It made no sense, how could we order when the waitress wasn't coming to the table? After arguing with me he ended up taking $6 off of our $200+ bill. Ridiculous. If it were up to me I would have never returned. Unfortunately my family decided to go here again tonight. Again it too...  \n",
       "3  Food was NOT GOOD at all! My husband & I ate here a couple weeks ago for the first time. I ordered a salad & basil pesto cream pasta & my husband ordered the spinach & feta pasta. The salad was just a huge plate of spring mix (nothing else in it) with WAY to much vinegar dressing. My lettuce was drowning in the vinegar. My pesto pasta had no flavor (did not taste like a cream sauce to me) & the pesto was so runny/watery & way too much sauce not enough noodles. My husband's pasta had even less flavor than mine. We ate about a quarter of the food & couldn't even finish it. We took it home & ...  \n",
       "4  This is a tiny Starbucks and it locations like this (although cute) makes you wonder if your really meant to hang out or just grab your coffee and leave. Leaving is always a good idea at this location anyway since you have a nice fountain in the back with benches and it is a central part of the Waterfront Shopping. \\n\\nStarbuck isn't my favorite coffee chain by any means. Is it just me or do all Starbuck coffees taste a little burnt and bitter? No matter how trendy, cool and upscale their establishments are I can't get around the yicky tasting bitterness of Staryucks regular coffees. Talk ...  "
      ]
     },
     "execution_count": 6,
     "metadata": {},
     "output_type": "execute_result"
    }
   ],
   "source": [
    "pd_test.head()"
   ]
  },
  {
   "cell_type": "code",
   "execution_count": 7,
   "metadata": {},
   "outputs": [
    {
     "data": {
      "text/plain": [
       "['CausalLM',\n",
       " 'LMHead',\n",
       " 'MaskedLM',\n",
       " 'MultipleChoice',\n",
       " 'NextSentencePrediction',\n",
       " 'PreTraining',\n",
       " 'QuestionAnswering',\n",
       " 'Seq2SeqLM',\n",
       " 'SequenceClassification',\n",
       " 'TokenClassification',\n",
       " '__class__',\n",
       " '__doc__',\n",
       " '__members__',\n",
       " '__module__']"
      ]
     },
     "execution_count": 7,
     "metadata": {},
     "output_type": "execute_result"
    }
   ],
   "source": [
    "dir(HF_TASKS_AUTO)"
   ]
  },
  {
   "cell_type": "code",
   "execution_count": 8,
   "metadata": {},
   "outputs": [
    {
     "name": "stdout",
     "output_type": "stream",
     "text": [
      "CPU times: user 1.8 s, sys: 140 ms, total: 1.94 s\n",
      "Wall time: 2.98 s\n"
     ]
    }
   ],
   "source": [
    "%%time\n",
    "\n",
    "task = HF_TASKS_AUTO.SequenceClassification\n",
    "\n",
    "pretrained_model_name = \"distilbert-base-uncased\"\n",
    "hf_arch, hf_config, hf_tokenizer, hf_model = BLURR_MODEL_HELPER.get_hf_objects(pretrained_model_name,  task=task)"
   ]
  },
  {
   "cell_type": "markdown",
   "metadata": {},
   "source": [
    "## merge frames"
   ]
  },
  {
   "cell_type": "code",
   "execution_count": 9,
   "metadata": {},
   "outputs": [
    {
     "name": "stdout",
     "output_type": "stream",
     "text": [
      "CPU times: user 32.4 ms, sys: 7.29 ms, total: 39.7 ms\n",
      "Wall time: 39.1 ms\n"
     ]
    }
   ],
   "source": [
    "%%time\n",
    "\n",
    "pd_train['is_valid'] = False\n",
    "pd_test['is_valid'] = True\n",
    "df = pd.concat([pd_train, pd_test])"
   ]
  },
  {
   "cell_type": "code",
   "execution_count": 10,
   "metadata": {},
   "outputs": [
    {
     "data": {
      "text/html": [
       "<div>\n",
       "<style scoped>\n",
       "    .dataframe tbody tr th:only-of-type {\n",
       "        vertical-align: middle;\n",
       "    }\n",
       "\n",
       "    .dataframe tbody tr th {\n",
       "        vertical-align: top;\n",
       "    }\n",
       "\n",
       "    .dataframe thead th {\n",
       "        text-align: right;\n",
       "    }\n",
       "</style>\n",
       "<table border=\"1\" class=\"dataframe\">\n",
       "  <thead>\n",
       "    <tr style=\"text-align: right;\">\n",
       "      <th></th>\n",
       "      <th>stars</th>\n",
       "      <th>review</th>\n",
       "      <th>is_valid</th>\n",
       "    </tr>\n",
       "  </thead>\n",
       "  <tbody>\n",
       "    <tr>\n",
       "      <th>0</th>\n",
       "      <td>2</td>\n",
       "      <td>Unfortunately, the frustration of being Dr. Goldberg's patient is a repeat of the experience I've had with so many other doctors in NYC -- good doctor, terrible staff.  It seems that his staff simply never answers the phone.  It usually takes 2 hours of repeated calling to get an answer.  Who has time for that or wants to deal with it?  I have run into this problem with many other doctors and I just don't get it.  You have office workers, you have patients with medical needs, why isn't anyone answering the phone?  It's incomprehensible and not work the aggravation.  It's with regret that I...</td>\n",
       "      <td>False</td>\n",
       "    </tr>\n",
       "    <tr>\n",
       "      <th>1</th>\n",
       "      <td>4</td>\n",
       "      <td>Been going to Dr. Goldberg for over 10 years. I think I was one of his 1st patients when he started at MHMG. He's been great over the years and is really all about the big picture. It is because of him, not my now former gyn Dr. Markoff, that I found out I have fibroids. He explores all options with you and is very patient and understanding. He doesn't judge and asks all the right questions. Very thorough and wants to be kept in the loop on every aspect of your medical health and your life.</td>\n",
       "      <td>False</td>\n",
       "    </tr>\n",
       "    <tr>\n",
       "      <th>2</th>\n",
       "      <td>4</td>\n",
       "      <td>Got a letter in the mail last week that said Dr. Goldberg is moving to Arizona to take a new position there in June.  He will be missed very much.  \\n\\nI think finding a new doctor in NYC that you actually like might almost be as awful as trying to find a date!</td>\n",
       "      <td>False</td>\n",
       "    </tr>\n",
       "    <tr>\n",
       "      <th>3</th>\n",
       "      <td>1</td>\n",
       "      <td>I don't know what Dr. Goldberg was like before  moving to Arizona, but let me tell you, STAY AWAY from this doctor and this office. I was going to Dr. Johnson before he left and Goldberg took over when Johnson left. He is not a caring doctor. He is only interested in the co-pay and having you come in for medication refills every month. He will not give refills and could less about patients's financial situations. Trying to get your 90 days mail away pharmacy prescriptions through this guy is a joke. And to make matters even worse, his office staff is incompetent. 90% of the time when you c...</td>\n",
       "      <td>False</td>\n",
       "    </tr>\n",
       "    <tr>\n",
       "      <th>4</th>\n",
       "      <td>5</td>\n",
       "      <td>Top notch doctor in a top notch practice. Can't say I am surprised when I was referred to him by another doctor who I think is wonderful and because he went to one of the best medical schools in the country. \\nIt is really easy to get an appointment. There is minimal wait to be seen and his bedside manner is great.</td>\n",
       "      <td>False</td>\n",
       "    </tr>\n",
       "  </tbody>\n",
       "</table>\n",
       "</div>"
      ],
      "text/plain": [
       "   stars  \\\n",
       "0      2   \n",
       "1      4   \n",
       "2      4   \n",
       "3      1   \n",
       "4      5   \n",
       "\n",
       "                                                                                                                                                                                                                                                                                                                                                                                                                                                                                                                                                                                                                    review  \\\n",
       "0  Unfortunately, the frustration of being Dr. Goldberg's patient is a repeat of the experience I've had with so many other doctors in NYC -- good doctor, terrible staff.  It seems that his staff simply never answers the phone.  It usually takes 2 hours of repeated calling to get an answer.  Who has time for that or wants to deal with it?  I have run into this problem with many other doctors and I just don't get it.  You have office workers, you have patients with medical needs, why isn't anyone answering the phone?  It's incomprehensible and not work the aggravation.  It's with regret that I...   \n",
       "1                                                                                                          Been going to Dr. Goldberg for over 10 years. I think I was one of his 1st patients when he started at MHMG. He's been great over the years and is really all about the big picture. It is because of him, not my now former gyn Dr. Markoff, that I found out I have fibroids. He explores all options with you and is very patient and understanding. He doesn't judge and asks all the right questions. Very thorough and wants to be kept in the loop on every aspect of your medical health and your life.   \n",
       "2                                                                                                                                                                                                                                                                                                                                                    Got a letter in the mail last week that said Dr. Goldberg is moving to Arizona to take a new position there in June.  He will be missed very much.  \\n\\nI think finding a new doctor in NYC that you actually like might almost be as awful as trying to find a date!   \n",
       "3  I don't know what Dr. Goldberg was like before  moving to Arizona, but let me tell you, STAY AWAY from this doctor and this office. I was going to Dr. Johnson before he left and Goldberg took over when Johnson left. He is not a caring doctor. He is only interested in the co-pay and having you come in for medication refills every month. He will not give refills and could less about patients's financial situations. Trying to get your 90 days mail away pharmacy prescriptions through this guy is a joke. And to make matters even worse, his office staff is incompetent. 90% of the time when you c...   \n",
       "4                                                                                                                                                                                                                                                                                             Top notch doctor in a top notch practice. Can't say I am surprised when I was referred to him by another doctor who I think is wonderful and because he went to one of the best medical schools in the country. \\nIt is really easy to get an appointment. There is minimal wait to be seen and his bedside manner is great.   \n",
       "\n",
       "   is_valid  \n",
       "0     False  \n",
       "1     False  \n",
       "2     False  \n",
       "3     False  \n",
       "4     False  "
      ]
     },
     "execution_count": 10,
     "metadata": {},
     "output_type": "execute_result"
    }
   ],
   "source": [
    "df.head()"
   ]
  },
  {
   "cell_type": "code",
   "execution_count": 11,
   "metadata": {},
   "outputs": [
    {
     "data": {
      "text/html": [
       "<div>\n",
       "<style scoped>\n",
       "    .dataframe tbody tr th:only-of-type {\n",
       "        vertical-align: middle;\n",
       "    }\n",
       "\n",
       "    .dataframe tbody tr th {\n",
       "        vertical-align: top;\n",
       "    }\n",
       "\n",
       "    .dataframe thead th {\n",
       "        text-align: right;\n",
       "    }\n",
       "</style>\n",
       "<table border=\"1\" class=\"dataframe\">\n",
       "  <thead>\n",
       "    <tr style=\"text-align: right;\">\n",
       "      <th></th>\n",
       "      <th>stars</th>\n",
       "      <th>review</th>\n",
       "      <th>is_valid</th>\n",
       "    </tr>\n",
       "  </thead>\n",
       "  <tbody>\n",
       "    <tr>\n",
       "      <th>49994</th>\n",
       "      <td>1</td>\n",
       "      <td>Just wanted to write a review to chip in with what the others said. I would not recommend going.  If you have little kids (under 8 maybe), they might like it but unless you have a lot of money to waste it probably wouldn't be worth finding out. A lot of the attractions are not very accurate. There's one where you strike a pose and you summon a superhero based on your pose. 8 out of 10 people would change their pose and summon the same superhero. Also, there's nowhere to sit. You wait in line after line and nowhere to sit. By the end, we were excited for the sitting ride. That actually was ...</td>\n",
       "      <td>True</td>\n",
       "    </tr>\n",
       "    <tr>\n",
       "      <th>49995</th>\n",
       "      <td>5</td>\n",
       "      <td>Great ambience. Great drinks. Great food. I love this place!</td>\n",
       "      <td>True</td>\n",
       "    </tr>\n",
       "    <tr>\n",
       "      <th>49996</th>\n",
       "      <td>4</td>\n",
       "      <td>I have been to the other Monks locations so I was excited when I heard they were coming Sun Prairie.  I was not disappointed.  We each orded something different and shared. I really liked my chicken sandwich and the fish tacos were great. My husband had a breakfast burger that while not something I would normally order, was pretty good.\\n\\nThere really aren't many places in Sun Prairie to eat besides fast food and I can see Monks being one of our favorites. I took away a star because the dining room is packed with tables,  when full it is a tight squeeze to get around.</td>\n",
       "      <td>True</td>\n",
       "    </tr>\n",
       "    <tr>\n",
       "      <th>49997</th>\n",
       "      <td>2</td>\n",
       "      <td>Don't go here.  I know you might want to try it but these good reviews are people who sadly have no taste buds. I got fries a burger and the spicy chicken. The spicy chicken which I am almost positive they drive down the street got it from McDonald's re wrapped it and gave it to me for 50 cents more.. Only McDonald's chicken is better quality.. That's right McDonald's is better which is the only time I have or will ever say that.  Their burger was flavorless and had the same consistency as burgers you find in the frozen dinner isle at Walmart. They have a lot of bells and whistles. Like wi...</td>\n",
       "      <td>True</td>\n",
       "    </tr>\n",
       "    <tr>\n",
       "      <th>49998</th>\n",
       "      <td>1</td>\n",
       "      <td>Buffet was recently open after renovation so my husband and I are thinking it should be pretty good....wrong. We arrived at 8:30 am for what we thought was a Saturday brunch offering champs, nope. Price is $21.95 but on Monday - Friday is $18.95...same food so why the increase? I can go to the Fiesta in Henderson with champs and better food for $8.99 Sat/Sun but we wanted to try something we thought was going to be an upgrade....lol what a joke. \\n\\n\\nFood: everything I tried looked and tasted like food was leftover from the day before and reheated. \\n\\nShrimps were all water logged, the c...</td>\n",
       "      <td>True</td>\n",
       "    </tr>\n",
       "  </tbody>\n",
       "</table>\n",
       "</div>"
      ],
      "text/plain": [
       "       stars  \\\n",
       "49994      1   \n",
       "49995      5   \n",
       "49996      4   \n",
       "49997      2   \n",
       "49998      1   \n",
       "\n",
       "                                                                                                                                                                                                                                                                                                                                                                                                                                                                                                                                                                                                                        review  \\\n",
       "49994  Just wanted to write a review to chip in with what the others said. I would not recommend going.  If you have little kids (under 8 maybe), they might like it but unless you have a lot of money to waste it probably wouldn't be worth finding out. A lot of the attractions are not very accurate. There's one where you strike a pose and you summon a superhero based on your pose. 8 out of 10 people would change their pose and summon the same superhero. Also, there's nowhere to sit. You wait in line after line and nowhere to sit. By the end, we were excited for the sitting ride. That actually was ...   \n",
       "49995                                                                                                                                                                                                                                                                                                                                                                                                                                                                                                                                                             Great ambience. Great drinks. Great food. I love this place!   \n",
       "49996                          I have been to the other Monks locations so I was excited when I heard they were coming Sun Prairie.  I was not disappointed.  We each orded something different and shared. I really liked my chicken sandwich and the fish tacos were great. My husband had a breakfast burger that while not something I would normally order, was pretty good.\\n\\nThere really aren't many places in Sun Prairie to eat besides fast food and I can see Monks being one of our favorites. I took away a star because the dining room is packed with tables,  when full it is a tight squeeze to get around.   \n",
       "49997  Don't go here.  I know you might want to try it but these good reviews are people who sadly have no taste buds. I got fries a burger and the spicy chicken. The spicy chicken which I am almost positive they drive down the street got it from McDonald's re wrapped it and gave it to me for 50 cents more.. Only McDonald's chicken is better quality.. That's right McDonald's is better which is the only time I have or will ever say that.  Their burger was flavorless and had the same consistency as burgers you find in the frozen dinner isle at Walmart. They have a lot of bells and whistles. Like wi...   \n",
       "49998  Buffet was recently open after renovation so my husband and I are thinking it should be pretty good....wrong. We arrived at 8:30 am for what we thought was a Saturday brunch offering champs, nope. Price is $21.95 but on Monday - Friday is $18.95...same food so why the increase? I can go to the Fiesta in Henderson with champs and better food for $8.99 Sat/Sun but we wanted to try something we thought was going to be an upgrade....lol what a joke. \\n\\n\\nFood: everything I tried looked and tasted like food was leftover from the day before and reheated. \\n\\nShrimps were all water logged, the c...   \n",
       "\n",
       "       is_valid  \n",
       "49994      True  \n",
       "49995      True  \n",
       "49996      True  \n",
       "49997      True  \n",
       "49998      True  "
      ]
     },
     "execution_count": 11,
     "metadata": {},
     "output_type": "execute_result"
    }
   ],
   "source": [
    "df.tail()"
   ]
  },
  {
   "cell_type": "code",
   "execution_count": 33,
   "metadata": {},
   "outputs": [
    {
     "name": "stdout",
     "output_type": "stream",
     "text": [
      "CPU times: user 0 ns, sys: 858 µs, total: 858 µs\n",
      "Wall time: 865 µs\n"
     ]
    }
   ],
   "source": [
    "%%time\n",
    "blocks = (HF_TextBlock(hf_arch=hf_arch, hf_tokenizer=hf_tokenizer), HF_TokenCategoryBlock)\n",
    "\n",
    "dblock = DataBlock(blocks=blocks, \n",
    "                   get_x=ColReader('review'), get_y=ColReader('stars'), \n",
    "                   splitter=ColSplitter(col='is_valid'))\n",
    "\n"
   ]
  },
  {
   "cell_type": "code",
   "execution_count": 34,
   "metadata": {},
   "outputs": [],
   "source": [
    "device=torch.device('cuda')"
   ]
  },
  {
   "cell_type": "code",
   "execution_count": null,
   "metadata": {},
   "outputs": [],
   "source": [
    "%%time\n",
    "dls = dblock.dataloaders(df, bs=1,device=device)\n",
    "dls.device"
   ]
  },
  {
   "cell_type": "code",
   "execution_count": null,
   "metadata": {},
   "outputs": [],
   "source": [
    "%%time\n",
    "model = HF_BaseModelWrapper(hf_model)\n",
    "next(model.parameters()).device"
   ]
  },
  {
   "cell_type": "code",
   "execution_count": null,
   "metadata": {},
   "outputs": [],
   "source": [
    "dls.device, dls.vocab"
   ]
  },
  {
   "cell_type": "code",
   "execution_count": null,
   "metadata": {},
   "outputs": [],
   "source": [
    "dls.one_batch()"
   ]
  },
  {
   "cell_type": "code",
   "execution_count": null,
   "metadata": {},
   "outputs": [],
   "source": [
    "#slow\n",
    "learn = Learner(dls, \n",
    "                model,\n",
    "#                 opt_func=partial(Adam, decouple_wd=True),\n",
    "#                 loss_func=CrossEntropyLossFlat(),\n",
    "#                metrics=[accuracy],\n",
    "                cbs=[HF_BaseModelCallback],\n",
    "                splitter=hf_splitter)"
   ]
  },
  {
   "cell_type": "code",
   "execution_count": null,
   "metadata": {},
   "outputs": [],
   "source": [
    "learn.fit(1,lr=0.01)"
   ]
  },
  {
   "cell_type": "code",
   "execution_count": null,
   "metadata": {},
   "outputs": [],
   "source": [
    "# learn.fit_one_cycle(3, lr_max=1e-3)"
   ]
  },
  {
   "cell_type": "code",
   "execution_count": 26,
   "metadata": {},
   "outputs": [
    {
     "ename": "AttributeError",
     "evalue": "'Learner' object has no attribute 'token_classification_report'",
     "output_type": "error",
     "traceback": [
      "\u001b[0;31m---------------------------------------------------------------------------\u001b[0m",
      "\u001b[0;31mAttributeError\u001b[0m                            Traceback (most recent call last)",
      "\u001b[0;32m<ipython-input-26-0e2696e9a31f>\u001b[0m in \u001b[0;36m<module>\u001b[0;34m\u001b[0m\n\u001b[0;32m----> 1\u001b[0;31m \u001b[0mprint\u001b[0m\u001b[0;34m(\u001b[0m\u001b[0mlearn\u001b[0m\u001b[0;34m.\u001b[0m\u001b[0mtoken_classification_report\u001b[0m\u001b[0;34m)\u001b[0m\u001b[0;34m\u001b[0m\u001b[0;34m\u001b[0m\u001b[0m\n\u001b[0m",
      "\u001b[0;31mAttributeError\u001b[0m: 'Learner' object has no attribute 'token_classification_report'"
     ]
    }
   ],
   "source": [
    "print(learn.token_classification_report)"
   ]
  },
  {
   "cell_type": "code",
   "execution_count": null,
   "metadata": {},
   "outputs": [],
   "source": []
  }
 ],
 "metadata": {
  "kernelspec": {
   "display_name": "Python 3",
   "language": "python",
   "name": "python3"
  },
  "language_info": {
   "codemirror_mode": {
    "name": "ipython",
    "version": 3
   },
   "file_extension": ".py",
   "mimetype": "text/x-python",
   "name": "python",
   "nbconvert_exporter": "python",
   "pygments_lexer": "ipython3",
   "version": "3.8.5"
  }
 },
 "nbformat": 4,
 "nbformat_minor": 4
}
