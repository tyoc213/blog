{
 "cells": [
  {
   "cell_type": "markdown",
   "metadata": {},
   "source": [
    "# Intro\n",
    "\n",
    "Perform Sentiment analysis using DistilBERT on Yelp reviews - Full and apply the EDA augmentation. Report the performance metrics for before and after augmentation? show examples of data augmentaion?\n",
    "\n",
    "* data https://course.fast.ai/datasets\n",
    "* papers: https://arxiv.org/pdf/1910.01108.pdf & https://arxiv.org/pdf/1901.11196.pdf\n",
    "* Hint on dataset Downsample the dataset according to your computing resources."
   ]
  },
  {
   "cell_type": "code",
   "execution_count": 12,
   "metadata": {},
   "outputs": [],
   "source": [
    "!pip freeze | grep -v transformers | wc -l | grep -w \"0\" && pip install transformers"
   ]
  },
  {
   "cell_type": "code",
   "execution_count": null,
   "metadata": {},
   "outputs": [],
   "source": []
  }
 ],
 "metadata": {
  "kernelspec": {
   "display_name": "Python 3",
   "language": "python",
   "name": "python3"
  },
  "language_info": {
   "codemirror_mode": {
    "name": "ipython",
    "version": 3
   },
   "file_extension": ".py",
   "mimetype": "text/x-python",
   "name": "python",
   "nbconvert_exporter": "python",
   "pygments_lexer": "ipython3",
   "version": "3.8.5"
  }
 },
 "nbformat": 4,
 "nbformat_minor": 4
}
